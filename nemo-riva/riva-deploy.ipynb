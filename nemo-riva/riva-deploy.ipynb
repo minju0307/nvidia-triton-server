{
 "cells": [
  {
   "cell_type": "markdown",
   "id": "ae6413d8",
   "metadata": {},
   "source": [
    "## 도커 체크"
   ]
  },
  {
   "cell_type": "code",
   "execution_count": 92,
   "id": "6cff271a",
   "metadata": {},
   "outputs": [
    {
     "name": "stdout",
     "output_type": "stream",
     "text": [
      "CONTAINER ID   IMAGE                                                COMMAND               CREATED        STATUS                    PORTS     NAMES\r\n",
      "a928ca64f547   nvcr.io/nvidia/riva/riva-speech:2.3.0-servicemaker   \"/bin/bash --\"        2 hours ago    Up 2 hours                          riva\r\n",
      "45a44613f9db   sogang_asr:v0.1                                      \"/usr/sbin/sshd -D\"   4 months ago   Exited (137) 7 days ago             sogang_asr\r\n"
     ]
    }
   ],
   "source": [
    "# Check running docker containers. This should be empty.\n",
    "!docker ps -a"
   ]
  },
  {
   "cell_type": "code",
   "execution_count": 4,
   "id": "2ccdbdab",
   "metadata": {},
   "outputs": [
    {
     "name": "stdout",
     "output_type": "stream",
     "text": [
      "rivadep\r\n"
     ]
    }
   ],
   "source": [
    "!docker rm rivadep"
   ]
  },
  {
   "cell_type": "code",
   "execution_count": 6,
   "id": "f63d2a2b",
   "metadata": {},
   "outputs": [
    {
     "name": "stdout",
     "output_type": "stream",
     "text": [
      "2.3.0-servicemaker: Pulling from nvidia/riva/riva-speech\r\n",
      "Digest: sha256:916340d89cbfaf0883cce25b0fa36ec76e5f4f28dedb1e5c45e28207570d4370\r\n",
      "Status: Image is up to date for nvcr.io/nvidia/riva/riva-speech:2.3.0-servicemaker\r\n",
      "nvcr.io/nvidia/riva/riva-speech:2.3.0-servicemaker\r\n"
     ]
    }
   ],
   "source": [
    "!docker pull nvcr.io/nvidia/riva/riva-speech:2.3.0-servicemaker"
   ]
  },
  {
   "cell_type": "markdown",
   "id": "860d4bf8",
   "metadata": {},
   "source": [
    "## nemo에서 바로 riva-build"
   ]
  },
  {
   "cell_type": "code",
   "execution_count": 82,
   "id": "6ee07c95",
   "metadata": {},
   "outputs": [],
   "source": [
    "# Set the WORKSPACE path to \"/path/to/your/workspace\"\n",
    "WORKSPACE = \"/home/mjk0307/nemo-text-classification\"\n",
    "\n",
    "# ServiceMaker Docker\n",
    "RIVA_SM_CONTAINER = \"nvcr.io/nvidia/riva/riva-speech:2.3.0-servicemaker\"\n",
    "\n",
    "# Directory where the .riva model is stored $MODEL_LOC/*.riva\n",
    "MODEL_LOC = WORKSPACE + '/nemo_experiments/TextClassification/kcelectra-text-classification/checkpoints'\n",
    "\n",
    "# Directory where the .rmir model is stored $RMIR_LOC/*.rmir\n",
    "RIVA_MODEL_LOC = WORKSPACE + '/riva/models_repo_text_classification'\n",
    "RMIR_LOC = RIVA_MODEL_LOC + \"/rmir\"\n",
    "\n",
    "# Name of the .erjvs file\n",
    "EXPORT_MODEL_NAME = \"TextClassification.nemo\"\n",
    "RMIR_MODEL_NAME = \"TextClassification_from_nemo.rmir\""
   ]
  },
  {
   "cell_type": "code",
   "execution_count": null,
   "id": "d7baffad",
   "metadata": {},
   "outputs": [],
   "source": [
    "# Set the WORKSPACE path to \"/path/to/your/workspace\"\n",
    "WORKSPACE = \"/home/mjk0307/nemo-text-classification\"\n",
    "\n",
    "# ServiceMaker Docker\n",
    "RIVA_SM_CONTAINER = \"nvcr.io/nvidia/riva/riva-speech:2.3.0-servicemaker\"\n",
    "\n",
    "# Directory where the .riva model is stored $MODEL_LOC/*.riva\n",
    "MODEL_LOC = WORKSPACE + '/nemo_experiments/TextClassification/kcelectra-text-classification/checkpoints'\n",
    "\n",
    "# Directory where the .rmir model is stored $RMIR_LOC/*.rmir\n",
    "RIVA_MODEL_LOC = WORKSPACE + '/riva/models_repo_text_classification'\n",
    "RMIR_LOC = RIVA_MODEL_LOC + \"/rmir\"\n",
    "\n",
    "# Name of the .erjvs file\n",
    "EXPORT_MODEL_NAME = \"TextClassification.nemo\"\n",
    "RMIR_MODEL_NAME = \"TextClassification_from_nemo.rmir\""
   ]
  },
  {
   "cell_type": "markdown",
   "id": "7386f810",
   "metadata": {},
   "source": [
    "### 도커 새로 만들기"
   ]
  },
  {
   "cell_type": "code",
   "execution_count": 55,
   "id": "880d3b1f",
   "metadata": {},
   "outputs": [
    {
     "name": "stdout",
     "output_type": "stream",
     "text": [
      "a928ca64f54741e22fb53eb970a3353cf06c1a7250b2bcb7d6f9238a2b9210ad\r\n"
     ]
    }
   ],
   "source": [
    "!docker run --interactive --tty --detach --name riva \\\n",
    "    --entrypoint /bin/bash \\\n",
    "    --gpus '\"device=0\"' \\\n",
    "    -v $MODEL_LOC:/nemo \\\n",
    "    -v $RMIR_LOC:/riva \\\n",
    "    -v $RIVA_MODEL_LOC:/data \\\n",
    "    $RIVA_SM_CONTAINER --"
   ]
  },
  {
   "cell_type": "code",
   "execution_count": 73,
   "id": "ccf17577",
   "metadata": {},
   "outputs": [],
   "source": [
    "# 서비스 메이커 올리기\n",
    "!docker cp /home/mjk0307/nemo-text-classification/servicemaker/cli/build.py riva:/usr/local/lib/python3.8/dist-packages/servicemaker/cli"
   ]
  },
  {
   "cell_type": "code",
   "execution_count": 90,
   "id": "56d7cc5d",
   "metadata": {},
   "outputs": [
    {
     "name": "stdout",
     "output_type": "stream",
     "text": [
      "[NeMo W 2022-11-15 09:28:04 optimizers:55] Apex was not found. Using the lamb or fused_adam optimizer will error out.\n",
      "\n",
      "<class 'servicemaker.pipelines.asr.AsrNetConfig'>\n",
      "\n",
      "\n",
      "<class 'servicemaker.pipelines.nlp_classification_token.TokenClassificationConfig'>\n",
      "\n",
      "\n",
      "<class 'servicemaker.pipelines.nlp_intent_slot.IntentSlotClassificationConfig'>\n",
      "\n",
      "\n",
      "<class 'servicemaker.pipelines.nlp_pipeline.NLPPipelineConfig'>\n",
      "\n",
      "\n",
      "<class 'servicemaker.pipelines.nlp_pipeline.TextClassificationPipelineConfig'>\n",
      "\n",
      "\n",
      "<class 'servicemaker.pipelines.nlp_pipeline.PunctuationPipelineConfig'>\n",
      "\n",
      "\n",
      "<class 'servicemaker.pipelines.nlp_qa.BertQAConfig'>\n",
      "\n",
      "\n",
      "<class 'servicemaker.pipelines.nlp_seq_classification.TextClassificationConfig'>\n",
      "\n",
      "\n",
      "<class 'servicemaker.pipelines.tts.NeuralSpeechSynthesisConfig'>\n",
      "\n",
      "\n",
      "Namespace(domain_name=None, end_token=True, force=True, language_code='ko-KR', max_batch_size=8, model_api='/nvidia.riva.nlp.RivaLanguageUnderstanding/ClassifyText', output_path='/riva/TextClassification_from_nemo.rmir', pipeline='text_classification', source_path=['/nemo/TextClassification.nemo'], start_token=True, tokenizer='wordpiece', verbose=False, vocab=None, **{'language_model.batching_type': 'none', 'language_model.fp16_needs_obey_precision_pass': False, 'language_model.instance_group_count': 1, 'language_model.max_batch_size': 0, 'language_model.max_queue_delay_microseconds': 200, 'language_model.max_sequence_idle_microseconds': 60000000, 'language_model.min_batch_size': 1, 'language_model.opt_batch_size': 0, 'language_model.preferred_batch_size': None, 'language_model.preserve_ordering': True, 'language_model.trt_max_workspace_size': 2048, 'language_model.use_onnx_runtime': False, 'language_model.use_trt_fp32': False, 'tokenizer.batching_type': 'none', 'tokenizer.bos_token': '[CLS]', 'tokenizer.eos_token': '[SEP]', 'tokenizer.instance_group_count': 1, 'tokenizer.max_batch_size': 0, 'tokenizer.max_queue_delay_microseconds': 1000, 'tokenizer.max_sequence_idle_microseconds': 60000000, 'tokenizer.min_batch_size': 1, 'tokenizer.opt_batch_size': 0, 'tokenizer.pad_chars_with_spaces': False, 'tokenizer.preferred_batch_size': None, 'tokenizer.preserve_ordering': True, 'tokenizer.to_lower': 'true', 'tokenizer.unk_token': '[UNK]'})\n",
      "\n",
      "[NeMo I 2022-11-15 09:28:06 artifacts:143] Retrieved artifacts: dict_keys(['01395a137d734754afd3721702b7f7e2_class_labels.txt', '76dd6d45dd6a4b1f8e5fc8a2be1560d6_beomi_KcELECTRA-base_encoder_config.json', 'ad600a754a394d4bafe0f5558e75cbe8_tokenizer_vocab_dict', 'bd2b5a959d4f4d23ad4511c724e871da_vocab.txt', 'model_config.yaml', 'model_weights.ckpt'])\n",
      "2022-11-15 09:28:06,294 [INFO] Packing binaries for self/PyTorch : {'class_labels_file': ('nemo.collections.nlp.models.text_classification.text_classification_model.TextClassificationModel', '01395a137d734754afd3721702b7f7e2_class_labels.txt')}\n",
      "2022-11-15 09:28:06,294 [INFO] Copying class_labels_file:01395a137d734754afd3721702b7f7e2_class_labels.txt -> self:self-01395a137d734754afd3721702b7f7e2_class_labels.txt\n",
      "2022-11-15 09:28:06,294 [INFO] Packing binaries for language_model/PyTorch : {'ckpt': ('nemo.collections.nlp.models.text_classification.text_classification_model.TextClassificationModel', 'model_weights.ckpt'), 'bert_config_file': ('nemo.collections.nlp.models.text_classification.text_classification_model.TextClassificationModel', '76dd6d45dd6a4b1f8e5fc8a2be1560d6_beomi_KcELECTRA-base_encoder_config.json')}\n",
      "2022-11-15 09:28:06,294 [INFO] Copying ckpt:model_weights.ckpt -> language_model:language_model-model_weights.ckpt\n",
      "2022-11-15 09:28:07,147 [INFO] Copying bert_config_file:76dd6d45dd6a4b1f8e5fc8a2be1560d6_beomi_KcELECTRA-base_encoder_config.json -> language_model:language_model-76dd6d45dd6a4b1f8e5fc8a2be1560d6_beomi_KcELECTRA-base_encoder_config.json\n",
      "2022-11-15 09:28:07,147 [INFO] Packing binaries for tokenizer/PyTorch : {'vocab': ('nemo.collections.nlp.models.text_classification.text_classification_model.TextClassificationModel', 'bd2b5a959d4f4d23ad4511c724e871da_vocab.txt')}\n",
      "2022-11-15 09:28:07,148 [INFO] Copying vocab:bd2b5a959d4f4d23ad4511c724e871da_vocab.txt -> tokenizer:tokenizer-bd2b5a959d4f4d23ad4511c724e871da_vocab.txt\n",
      "2022-11-15 09:28:07,149 [INFO] Saving to /riva/TextClassification_from_nemo.rmir\n",
      "\n",
      "<servicemaker.readers.nemo.NemoModel object at 0x7fc2b5dbeb50>\n",
      "\n"
     ]
    }
   ],
   "source": [
    "!docker exec  riva \\\n",
    "    riva-build text_classification -f /riva/$RMIR_MODEL_NAME /nemo/$EXPORT_MODEL_NAME --language_code=ko-KR"
   ]
  },
  {
   "cell_type": "code",
   "execution_count": 91,
   "id": "21a7aee2",
   "metadata": {},
   "outputs": [
    {
     "name": "stdout",
     "output_type": "stream",
     "text": [
      "KcELECTRA-base\r\n",
      "riva_text_classification_default\r\n",
      "riva-trt-riva_text_classification_default-nn-beomi-KcELECTRA-base\r\n",
      "TextClassification.rmir\r\n",
      "text_classification_tokenizer-en-US\r\n"
     ]
    }
   ],
   "source": [
    "# Check optimized models \n",
    "!ls $RIVA_MODEL_LOC/models"
   ]
  },
  {
   "cell_type": "markdown",
   "id": "b5fc0682",
   "metadata": {},
   "source": [
    "## riva-deploy"
   ]
  },
  {
   "cell_type": "code",
   "execution_count": 75,
   "id": "067d2724",
   "metadata": {},
   "outputs": [
    {
     "name": "stdout",
     "output_type": "stream",
     "text": [
      "CONTAINER ID   IMAGE                                                COMMAND          CREATED             STATUS             PORTS     NAMES\r\n",
      "a928ca64f547   nvcr.io/nvidia/riva/riva-speech:2.3.0-servicemaker   \"/bin/bash --\"   About an hour ago   Up About an hour             riva\r\n"
     ]
    }
   ],
   "source": [
    "!docker ps"
   ]
  },
  {
   "cell_type": "code",
   "execution_count": 88,
   "id": "4923706e",
   "metadata": {},
   "outputs": [],
   "source": [
    "# 수정한 triton.py 를 도커에 올리기\n",
    "!docker cp /home/mjk0307/nemo-text-classification/triton.py riva:/usr/local/lib/python3.8/dist-packages/servicemaker/triton"
   ]
  },
  {
   "cell_type": "code",
   "execution_count": 89,
   "id": "eaa1047a",
   "metadata": {
    "scrolled": true
   },
   "outputs": [
    {
     "name": "stdout",
     "output_type": "stream",
     "text": [
      "[NeMo W 2022-11-15 09:12:01 optimizers:55] Apex was not found. Using the lamb or fused_adam optimizer will error out.\n",
      "2022-11-15 09:12:01,986 [INFO] Writing Riva model repository to '/data/models/'...\n",
      "2022-11-15 09:12:01,986 [INFO] The riva model repo target directory is /data/models/\n",
      "2022-11-15 09:12:15,975 [INFO] Using obey-precision pass with fp16 TRT\n",
      "2022-11-15 09:12:15,976 [INFO] Extract_binaries for language_model -> /data/models/riva-trt-riva_text_classification_default-nn-beomi-KcELECTRA-base/1\n",
      "2022-11-15 09:12:15,976 [INFO] extracting {'ckpt': ('nemo.collections.nlp.models.text_classification.text_classification_model.TextClassificationModel', 'model_weights.ckpt'), 'bert_config_file': ('nemo.collections.nlp.models.text_classification.text_classification_model.TextClassificationModel', '76dd6d45dd6a4b1f8e5fc8a2be1560d6_beomi_KcELECTRA-base_encoder_config.json')} -> /data/models/riva-trt-riva_text_classification_default-nn-beomi-KcELECTRA-base/1\n",
      "2022-11-15 09:12:16,388 [INFO] Printing copied artifacts:\n",
      "2022-11-15 09:12:16,388 [INFO] {'ckpt': '/data/models/riva-trt-riva_text_classification_default-nn-beomi-KcELECTRA-base/1/model_weights.ckpt', 'bert_config_file': '/data/models/riva-trt-riva_text_classification_default-nn-beomi-KcELECTRA-base/1/76dd6d45dd6a4b1f8e5fc8a2be1560d6_beomi_KcELECTRA-base_encoder_config.json'}\n",
      "2022-11-15 09:12:16,388 [INFO] Building TRT engine from PyTorch Checkpoint\n",
      "[NeMo W 2022-11-15 09:12:20 optimizers:55] Apex was not found. Using the lamb or fused_adam optimizer will error out.\n",
      "2022-11-15 09:12:51,605 [INFO] Reading bindings from:/tmp/bert_bindings.yaml\n",
      "2022-11-15 09:12:51,683 [INFO] Text Classification classes:5\n",
      "2022-11-15 09:12:51,684 [INFO] Extract_binaries for tokenizer -> /data/models/text_classification_tokenizer-en-US/1\n",
      "2022-11-15 09:12:51,685 [INFO] extracting {'vocab': ('nemo.collections.nlp.models.text_classification.text_classification_model.TextClassificationModel', 'bd2b5a959d4f4d23ad4511c724e871da_vocab.txt')} -> /data/models/text_classification_tokenizer-en-US/1\n",
      "2022-11-15 09:12:51,687 [INFO] Extract_binaries for self -> /data/models/riva_text_classification_default/1\n",
      "2022-11-15 09:12:51,687 [INFO] extracting {'class_labels_file': ('nemo.collections.nlp.models.text_classification.text_classification_model.TextClassificationModel', '01395a137d734754afd3721702b7f7e2_class_labels.txt')} -> /data/models/riva_text_classification_default/1\n",
      "\n",
      "riva_text_classification_default\n",
      "\n",
      "\n",
      "riva-trt-riva_text_classification_default-nn-beomi-KcELECTRA-base\n",
      "\n",
      "\n",
      "text_classification_tokenizer-en-US\n",
      "\n"
     ]
    }
   ],
   "source": [
    "# Syntax: riva-deploy -f dir-for-rmir/model.rmir:key output-dir-for-repository\n",
    "!docker exec  riva \\\n",
    "    riva-deploy -f /data/rmir/$RMIR_MODEL_NAME /data/models/"
   ]
  },
  {
   "cell_type": "code",
   "execution_count": 146,
   "id": "026979b0",
   "metadata": {},
   "outputs": [
    {
     "name": "stdout",
     "output_type": "stream",
     "text": [
      "KcELECTRA-base\r\n",
      "riva_text_classification_default\r\n",
      "riva-trt-riva_text_classification_default-nn-beomi-KcELECTRA-base\r\n",
      "TextClassification.rmir\r\n",
      "text_classification_tokenizer-en-US\r\n"
     ]
    }
   ],
   "source": [
    "# Check optimized models \n",
    "!ls $RIVA_MODEL_LOC/models"
   ]
  }
 ],
 "metadata": {
  "kernelspec": {
   "display_name": "Python 3 (ipykernel)",
   "language": "python",
   "name": "python3"
  },
  "language_info": {
   "codemirror_mode": {
    "name": "ipython",
    "version": 3
   },
   "file_extension": ".py",
   "mimetype": "text/x-python",
   "name": "python",
   "nbconvert_exporter": "python",
   "pygments_lexer": "ipython3",
   "version": "3.9.12"
  }
 },
 "nbformat": 4,
 "nbformat_minor": 5
}
