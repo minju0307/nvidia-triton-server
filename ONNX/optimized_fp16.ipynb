{
 "cells": [
  {
   "cell_type": "code",
   "execution_count": 1,
   "id": "8d5ebc2d",
   "metadata": {},
   "outputs": [],
   "source": [
    "from torch.onnx import export\n",
    "import os\n",
    "import torch\n",
    "\n",
    "output_dir = \"./onnx_model_optimized\"\n",
    "if not os.path.exists(output_dir):\n",
    "    os.makedirs(output_dir)\n",
    "\n",
    "optimized_fp16_model_path = os.path.join(output_dir, 'newnewtrain_kcelectra_fp16_128.onnx')\n",
    "\n",
    "# GPU or CPU\n",
    "use_gpu = torch.cuda.is_available()\n",
    "device = torch.device(\"cuda\" if use_gpu else \"cpu\")\n",
    "\n",
    "original_output_dir = \"./onnx_model\"\n",
    "export_model_path = os.path.join(original_output_dir, 'newnewtrain_kcelectra_128.onnx')"
   ]
  },
  {
   "cell_type": "code",
   "execution_count": 2,
   "id": "b403eb4d",
   "metadata": {},
   "outputs": [
    {
     "name": "stdout",
     "output_type": "stream",
     "text": [
      "remove_useless_cast_nodes: Removed 0 Cast nodes with output type same as input\n",
      "               apply: Fused LayerNormalization count: 25\n",
      "               apply: Fused Gelu count: 13\n",
      "               apply: Fused SkipLayerNormalization count: 24\n",
      "               apply: Fused Attention count: 12\n",
      "         prune_graph: Graph pruned: 0 inputs, 0 outputs and 5 nodes are removed\n",
      "               apply: Fused EmbedLayerNormalization(with mask) count: 1\n",
      "         prune_graph: Graph pruned: 0 inputs, 0 outputs and 10 nodes are removed\n",
      "               apply: Fused BiasGelu count: 12\n",
      "               apply: Fused SkipLayerNormalization(add bias) count: 24\n",
      "            optimize: opset version: 11\n",
      "  save_model_to_file: Sort graphs in topological order\n",
      "  save_model_to_file: Model saved to ./onnx_model_optimized/newnewtrain_kcelectra_fp16_128.onnx\n",
      "get_fused_operator_statistics: Optimized operators:{'EmbedLayerNormalization': 1, 'Attention': 12, 'Gelu': 1, 'FastGelu': 0, 'BiasGelu': 12, 'LayerNormalization': 0, 'SkipLayerNormalization': 24}\n",
      "                main: The model has been optimized.\n"
     ]
    }
   ],
   "source": [
    "!python -m onnxruntime.transformers.optimizer --input $export_model_path --output $optimized_fp16_model_path --float16"
   ]
  },
  {
   "cell_type": "code",
   "execution_count": null,
   "id": "f96645d6",
   "metadata": {},
   "outputs": [],
   "source": []
  }
 ],
 "metadata": {
  "kernelspec": {
   "display_name": "Python 3 (ipykernel)",
   "language": "python",
   "name": "python3"
  },
  "language_info": {
   "codemirror_mode": {
    "name": "ipython",
    "version": 3
   },
   "file_extension": ".py",
   "mimetype": "text/x-python",
   "name": "python",
   "nbconvert_exporter": "python",
   "pygments_lexer": "ipython3",
   "version": "3.8.10"
  }
 },
 "nbformat": 4,
 "nbformat_minor": 5
}
