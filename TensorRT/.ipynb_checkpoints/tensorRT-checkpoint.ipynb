{
 "cells": [
  {
   "cell_type": "markdown",
   "id": "f2a4364d",
   "metadata": {},
   "source": [
    "### NVIDIA NGC"
   ]
  },
  {
   "cell_type": "code",
   "execution_count": null,
   "id": "64639611",
   "metadata": {},
   "outputs": [],
   "source": [
    "# Replace MY_NGC_API_KEY with your generated NGC API key\n",
    "api_key = \"ZDBvdnM4Y2RwZG5oNjBzMnVhOThsMm84OTE6OTJkODM3MDgtMmFmNi00ODk5LWIyOGUtMDg2ZWMzNjQwN2Ri\""
   ]
  },
  {
   "cell_type": "code",
   "execution_count": null,
   "id": "55a9bb1d",
   "metadata": {},
   "outputs": [],
   "source": [
    "!docker login -u '$oauthtoken' -p $api_key nvcr.io"
   ]
  },
  {
   "cell_type": "markdown",
   "id": "2fd8443a",
   "metadata": {},
   "source": [
    "### Docker run"
   ]
  },
  {
   "cell_type": "code",
   "execution_count": null,
   "id": "7e9be305",
   "metadata": {},
   "outputs": [],
   "source": [
    "!docker ps"
   ]
  },
  {
   "cell_type": "code",
   "execution_count": null,
   "id": "dca649ff",
   "metadata": {},
   "outputs": [],
   "source": [
    "!docker run --interactive --tty --detach --name tensorRT --entrypoint /bin/bash \\\n",
    "    --gpus '\"device=0\"' \\\n",
    "    -v /home/mjk0307/nemo-text-classification/tensorRT_docker:/container_dir \\\n",
    "     nvcr.io/nvidia/tensorrt:22.11-py3 "
   ]
  },
  {
   "cell_type": "code",
   "execution_count": null,
   "id": "29a7484f",
   "metadata": {},
   "outputs": [],
   "source": [
    "!docker cp /home/mjk0307/nemo-text-classification/TensorRT/demo/tensorrt_inference.py tensorRT:/workspace/tensorrt/samples"
   ]
  },
  {
   "cell_type": "code",
   "execution_count": null,
   "id": "986b0f54",
   "metadata": {},
   "outputs": [],
   "source": [
    "!docker cp tensorRT:/workspace/tensorrt/samples/kcelectra_GPU_fp16.engine /home/mjk0307/nemo-text-classification/TensorRT/demo"
   ]
  },
  {
   "cell_type": "code",
   "execution_count": null,
   "id": "f16adac4",
   "metadata": {},
   "outputs": [],
   "source": []
  }
 ],
 "metadata": {
  "kernelspec": {
   "display_name": "Python 3 (ipykernel)",
   "language": "python",
   "name": "python3"
  },
  "language_info": {
   "codemirror_mode": {
    "name": "ipython",
    "version": 3
   },
   "file_extension": ".py",
   "mimetype": "text/x-python",
   "name": "python",
   "nbconvert_exporter": "python",
   "pygments_lexer": "ipython3",
   "version": "3.9.12"
  }
 },
 "nbformat": 4,
 "nbformat_minor": 5
}
